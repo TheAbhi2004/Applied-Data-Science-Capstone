{
 "cells": [
  {
   "cell_type": "code",
   "execution_count": 7,
   "id": "ad2dff4a-812f-4564-b235-9bbc6f7c3325",
   "metadata": {},
   "outputs": [],
   "source": [
    "# Import required libraries\n",
    "import pandas as pd\n",
    "import dash\n",
    "from dash import html\n",
    "from dash import dcc\n",
    "from dash.dependencies import Input, Output\n",
    "import plotly.express as px"
   ]
  },
  {
   "cell_type": "code",
   "execution_count": 8,
   "id": "0a52bc3c-f04d-468c-b71a-ec1b563c1f8e",
   "metadata": {},
   "outputs": [
    {
     "name": "stdout",
     "output_type": "stream",
     "text": [
      "Dataset 'spacex_launch_dash.csv' downloaded successfully.\n"
     ]
    }
   ],
   "source": [
    "import requests\n",
    "url=\"https://cf-courses-data.s3.us.cloud-object-storage.appdomain.cloud/IBM-DS0321EN-SkillsNetwork/datasets/spacex_launch_dash.csv\"\n",
    "filename= \"spacex_launch_dash.csv\"\n",
    "try:\n",
    "    response=requests.get(url)\n",
    "    response.raise_for_status()\n",
    "    with open(filename, 'wb') as f:\n",
    "        f.write(response.content)\n",
    "    print(f\"Dataset '{filename}' downloaded successfully.\")\n",
    "except requests.exceptions.RequestException as e:\n",
    "    print(f\"Error downloading the dataset: {e}\")"
   ]
  },
  {
   "cell_type": "code",
   "execution_count": 9,
   "id": "5a8da05a-0ce6-4907-a51d-415d2d5243fc",
   "metadata": {},
   "outputs": [],
   "source": [
    "# Read the airline data into pandas dataframe\n",
    "spacex_df = pd.read_csv(\"spacex_launch_dash.csv\")\n",
    "max_payload = spacex_df['Payload Mass (kg)'].max()\n",
    "min_payload = spacex_df['Payload Mass (kg)'].min()"
   ]
  },
  {
   "cell_type": "code",
   "execution_count": 10,
   "id": "a0775d73-2fcf-4c49-9624-ee4ac4fe69e7",
   "metadata": {},
   "outputs": [],
   "source": [
    "# Create a dash application\n",
    "app = dash.Dash(__name__)"
   ]
  },
  {
   "cell_type": "code",
   "execution_count": 11,
   "id": "9335f192-6946-48f5-88b5-d15b1245f0cf",
   "metadata": {},
   "outputs": [],
   "source": [
    "# Dropdown options\n",
    "dropdown_options = [{'label': 'All Sites', 'value': 'ALL'}] + \\\n",
    "                   [{'label': site, 'value': site} for site in spacex_df['Launch Site'].unique()]\n",
    "# Create Dash app\n",
    "app = dash.Dash(__name__)\n",
    "# Layout\n",
    "app.layout = html.Div(children=[\n",
    "    html.H1('SpaceX Launch Records Dashboard',\n",
    "            style={'textAlign': 'center', 'color': '#503D36', 'font-size': 40}),\n",
    "    # TASK 1: Dropdown\n",
    "    dcc.Dropdown(id='site-dropdown',\n",
    "                 options=dropdown_options,\n",
    "                 value='ALL',\n",
    "                 placeholder=\"Select a Launch Site here\",\n",
    "                 searchable=True),\n",
    "    html.Br(),\n",
    "    # TASK 2: Pie Chart\n",
    "    html.Div(dcc.Graph(id='success-pie-chart')),\n",
    "    html.Br(),\n",
    "\n",
    "    html.P(\"Payload range (Kg):\"),\n",
    "\n",
    "    # TASK 3: Payload RangeSlider\n",
    "    dcc.RangeSlider(id='payload-slider',\n",
    "                    min=min_payload,\n",
    "                    max=max_payload,\n",
    "                    step=1000,\n",
    "                    value=[min_payload, max_payload],\n",
    "                    marks={i: f'{i}' for i in range(int(min_payload), int(max_payload)+1, 2500)},\n",
    "                    tooltip={\"always_visible\": True, \"placement\": \"bottom\"}),\n",
    "\n",
    "    # TASK 4: Scatter Plot\n",
    "    html.Div(dcc.Graph(id='success-payload-scatter-chart')),\n",
    "])\n",
    "\n",
    "# TASK 2: Callback for Pie Chart\n",
    "@app.callback(Output(component_id='success-pie-chart', component_property='figure'),\n",
    "              Input(component_id='site-dropdown', component_property='value'))\n",
    "def get_pie_chart(entered_site):\n",
    "    filtered_df = spacex_df\n",
    "    if entered_site == 'ALL':\n",
    "        # Group by launch site and sum successful launches\n",
    "        site_success_counts = filtered_df[filtered_df['class'] == 1]['Launch Site'].value_counts().reset_index()\n",
    "        site_success_counts.columns = ['Launch Site', 'Successes']\n",
    "\n",
    "        fig = px.pie(site_success_counts, values='Successes', \n",
    "                     names='Launch Site', \n",
    "                     title='Total Successful Launches by Site (All Sites)')\n",
    "        return fig\n",
    "    else:\n",
    "        # Filter for specific launch site\n",
    "        site_df = filtered_df[filtered_df['Launch Site'] == entered_site]\n",
    "\n",
    "        # Count success/failure\n",
    "        class_counts = site_df['class'].value_counts().reset_index()\n",
    "        class_counts.columns = ['class', 'count']\n",
    "        class_counts['class'] = class_counts['class'].map({1: 'Success', 0: 'Failure'})\n",
    "\n",
    "        fig = px.pie(class_counts,\n",
    "                     values='count',\n",
    "                     names='class',\n",
    "                     title=f'Total Launch Outcomes for site {entered_site}',\n",
    "                     color='class',\n",
    "                     color_discrete_map={'Success': 'lightgreen', 'Failure': 'lightcoral'})\n",
    "        return fig\n"
   ]
  },
  {
   "cell_type": "code",
   "execution_count": 12,
   "id": "b49dd3d1-7a72-4b3b-9679-ec086db6136c",
   "metadata": {},
   "outputs": [
    {
     "data": {
      "text/html": [
       "\n",
       "        <iframe\n",
       "            width=\"100%\"\n",
       "            height=\"650\"\n",
       "            src=\"http://127.0.0.1:8051/\"\n",
       "            frameborder=\"0\"\n",
       "            allowfullscreen\n",
       "            \n",
       "        ></iframe>\n",
       "        "
      ],
      "text/plain": [
       "<IPython.lib.display.IFrame at 0x202c7945d30>"
      ]
     },
     "metadata": {},
     "output_type": "display_data"
    }
   ],
   "source": [
    "# Run the app\n",
    "if __name__ == '__main__':\n",
    "    app.run(port=8051)"
   ]
  },
  {
   "cell_type": "code",
   "execution_count": null,
   "id": "975626a7-6dd0-435e-ac65-41f1b3acc9f4",
   "metadata": {},
   "outputs": [],
   "source": []
  }
 ],
 "metadata": {
  "kernelspec": {
   "display_name": "Python 3",
   "language": "python",
   "name": "python3"
  },
  "language_info": {
   "codemirror_mode": {
    "name": "ipython",
    "version": 3
   },
   "file_extension": ".py",
   "mimetype": "text/x-python",
   "name": "python",
   "nbconvert_exporter": "python",
   "pygments_lexer": "ipython3",
   "version": "3.13.2"
  }
 },
 "nbformat": 4,
 "nbformat_minor": 5
}
